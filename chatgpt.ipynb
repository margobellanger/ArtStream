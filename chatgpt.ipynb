{
 "cells": [
  {
   "cell_type": "code",
   "execution_count": 2,
   "id": "f68f4ebf",
   "metadata": {},
   "outputs": [],
   "source": [
    "#pip install openai==0.28\n",
    "#pip install pyvis"
   ]
  },
  {
   "cell_type": "code",
   "execution_count": 3,
   "id": "67e9dca5",
   "metadata": {},
   "outputs": [],
   "source": [
    "import os\n",
    "import networkx as nx\n",
    "import openai\n",
    "from pyvis.network import Network\n",
    "import matplotlib.pyplot as plt\n",
    "import re"
   ]
  },
  {
   "cell_type": "code",
   "execution_count": 18,
   "id": "294aa107",
   "metadata": {},
   "outputs": [],
   "source": [
    "os.environ['OPENAI_API_KEY'] = ''\n",
    "openai.api_key = os.getenv('OPENAI_API_KEY')"
   ]
  },
  {
   "cell_type": "code",
   "execution_count": 19,
   "id": "15bd2093",
   "metadata": {},
   "outputs": [],
   "source": [
    "def get_chat_gpt(query):\n",
    "    response = openai.ChatCompletion.create(\n",
    "        messages=[\n",
    "            {\n",
    "                \"role\": \"user\",\n",
    "                \"content\": query,\n",
    "            }\n",
    "        ],\n",
    "        model=\"gpt-3.5-turbo\",\n",
    "    )\n",
    "    return response.choices[0].message.content\n",
    "    \n",
    "def get_influencers_and_influencees(artist_name):\n",
    "    # influencers_query = f\"Please provide a list of the full names without special characters of five artists and philosophers that influenced {artist_name}, separated by commas, without any numbers, enumerations or additional text. The output format should not be a list, but a string.\"\n",
    "    #influencees_query = f\"Please provide a list of the full names without special characters of five artists and philosophers that were influenced by {artist_name}, separated by commas, without any numbers, enumerations or additional text. The output format should not be a list, but a string.\"\n",
    "    influencers_query = f\"\"\"Provide a string containing the full names (first and last names) of five artists and \n",
    "    philosophers who influenced {artist_name}. \n",
    "    The names should be free of special characters and separated by commas. \n",
    "    Please avoid any lists, numbers, or additional text in the response.\n",
    "    Emphasize that each name must be a complete full name.\n",
    "    Don't add any points at the end of the names. \n",
    "    \"\"\"\n",
    "    influencees_query = f\"\"\"Provide a string containing the full names (first and last names) of five artists and \n",
    "    philosophers who are influenced by {artist_name}. \n",
    "    The names should be free of special characters and separated by commas. \n",
    "    Please avoid any lists, numbers, or additional text in the response.\n",
    "    Emphasize that each name must be a complete full name.\n",
    "    Don't add any points at the end of the names. \n",
    "    \"\"\"    \n",
    "\n",
    "    \n",
    "    influencers = get_chat_gpt(influencers_query)\n",
    "    influencees = get_chat_gpt(influencees_query)\n",
    "    return influencers, influencees"
   ]
  },
  {
   "cell_type": "code",
   "execution_count": 20,
   "id": "55ff1140",
   "metadata": {},
   "outputs": [
    {
     "data": {
      "text/plain": [
       "('Plato, Francis Bacon, John Locke, David Hume, Jean-Jacques Rousseau',\n",
       " 'Rudolf Steiner, Hannah Arendt, Jürgen Habermas, Michel Foucault, Johann Wolfgang von Goethe')"
      ]
     },
     "execution_count": 20,
     "metadata": {},
     "output_type": "execute_result"
    }
   ],
   "source": [
    "get_influencers_and_influencees('Immanuel Kant')"
   ]
  },
  {
   "cell_type": "code",
   "execution_count": 21,
   "id": "fd4a8302",
   "metadata": {},
   "outputs": [
    {
     "data": {
      "text/plain": [
       "('Rene Descartes, David Hume, Plato, John Locke, Aristotle',\n",
       " 'Johann Wolfgang von Goethe, Arthur Schopenhauer, Henri Bergson, Martin Heidegger, Hannah Arendt')"
      ]
     },
     "execution_count": 21,
     "metadata": {},
     "output_type": "execute_result"
    }
   ],
   "source": [
    "get_influencers_and_influencees('Immanuel Kant')"
   ]
  },
  {
   "cell_type": "code",
   "execution_count": 22,
   "id": "7b83c2ef",
   "metadata": {},
   "outputs": [],
   "source": [
    "artists = [\"Claude Monet\", \"Vincent van Gogh\", \"Pablo Picasso\", \"Salvador Dalí\", \"Georgia O'Keeffe\"]\n",
    "artists = [\"Sigmund Freud\"]\n",
    "\n",
    "# Collect data for each artist\n",
    "artist_influence_data = {}\n",
    "for artist in artists:\n",
    "    influencers, influencees = get_influencers_and_influencees(artist)\n",
    "    artist_influence_data[artist] = {\n",
    "        \"influencers\": influencers,\n",
    "        \"influencees\": influencees\n",
    "    }"
   ]
  },
  {
   "cell_type": "code",
   "execution_count": 23,
   "id": "753afa71",
   "metadata": {},
   "outputs": [
    {
     "data": {
      "text/plain": [
       "{'Sigmund Freud': {'influencers': 'Gustav Fechner, Friedrich Nietzsche, Josef Breuer, Richard Wagner, Otto Rank',\n",
       "  'influencees': 'Salvador Dali, Carl Jung, Lou Andreas-Salome, Jacques Lacan, Edvard Munch'}}"
      ]
     },
     "execution_count": 23,
     "metadata": {},
     "output_type": "execute_result"
    }
   ],
   "source": [
    "artist_influence_data"
   ]
  },
  {
   "cell_type": "code",
   "execution_count": null,
   "id": "4f424e2a",
   "metadata": {},
   "outputs": [],
   "source": []
  },
  {
   "cell_type": "code",
   "execution_count": 24,
   "id": "db3b4334",
   "metadata": {},
   "outputs": [],
   "source": [
    "def create_a_directed_graph(artist_influence_data):\n",
    "    # Create a directed graph\n",
    "    G = nx.DiGraph()\n",
    "    # Add nodes and edges based on the influence data\n",
    "    for artist, influences in artist_influence_data.items():\n",
    "        G.add_node(artist)\n",
    "        # Add edges for influencers\n",
    "        for influencer in influences[\"influencers\"].split(','):\n",
    "            influencer = influencer.strip()\n",
    "            if influencer:\n",
    "                G.add_edge(influencer, artist)\n",
    "        # Add edges for influencees\n",
    "        for influencee in influences[\"influencees\"].split(','):\n",
    "            influencee = influencee.strip()\n",
    "            if influencee:\n",
    "                G.add_edge(artist, influencee)\n",
    "    return G"
   ]
  },
  {
   "cell_type": "code",
   "execution_count": 25,
   "id": "7f5258f6",
   "metadata": {},
   "outputs": [
    {
     "data": {
      "image/png": "[encoded data removed]",
      "text/plain": [
       "<Figure size 864x864 with 1 Axes>"
      ]
     },
     "metadata": {},
     "output_type": "display_data"
    }
   ],
   "source": [
    "G = create_a_directed_graph(artist_influence_data)\n",
    "# Draw the graph\n",
    "plt.figure(figsize=(12, 12))\n",
    "nx.draw(G, with_labels=True, node_size=500, font_size=10, node_color='lightblue', edge_color='gray')\n",
    "plt.title(\"Artist Influence Network\")\n",
    "plt.show()"
   ]
  },
  {
   "cell_type": "code",
   "execution_count": null,
   "id": "600a3204",
   "metadata": {},
   "outputs": [],
   "source": []
  },
  {
   "cell_type": "code",
   "execution_count": null,
   "id": "e89f0559",
   "metadata": {},
   "outputs": [],
   "source": []
  },
  {
   "cell_type": "code",
   "execution_count": 26,
   "id": "d4d31ac7",
   "metadata": {},
   "outputs": [],
   "source": [
    "#Now: do 3 loops "
   ]
  },
  {
   "cell_type": "code",
   "execution_count": 27,
   "id": "4d084170",
   "metadata": {},
   "outputs": [],
   "source": [
    "artists_processed = set()\n",
    "artists_to_process = set([\"Sigmund Freud\"])\n",
    "artist_influence_data = {}\n",
    "\n",
    "for i in range(3):\n",
    "    new_artists = set()\n",
    "    for artist in artists_to_process:\n",
    "        influencers, influencees = get_influencers_and_influencees(artist)\n",
    "        for influencer in influencers.split(\",\"):\n",
    "            new_artists.add(influencer.strip()) \n",
    "        for influencee in influencees.split(\",\"):\n",
    "            new_artists.add(influencee.strip()) \n",
    "        artist_influence_data[artist] = {\n",
    "            \"influencers\": influencers,\n",
    "            \"influencees\": influencees\n",
    "        }\n",
    "    artists_processed.update(artists_to_process)\n",
    "    artists_to_process = new_artists\n",
    "    "
   ]
  },
  {
   "cell_type": "code",
   "execution_count": 28,
   "id": "9505ded9",
   "metadata": {},
   "outputs": [
    {
     "name": "stdout",
     "output_type": "stream",
     "text": [
      "Warning: When  cdn_resources is 'local' jupyter notebook has issues displaying graphics on chrome/safari. Use cdn_resources='in_line' or cdn_resources='remote' if you have issues viewing graphics in a notebook.\n",
      "directed_graph.html\n"
     ]
    },
    {
     "data": {
      "text/html": [
       "\n",
       "        <iframe\n",
       "            width=\"100%\"\n",
       "            height=\"600px\"\n",
       "            src=\"directed_graph.html\"\n",
       "            frameborder=\"0\"\n",
       "            allowfullscreen\n",
       "            \n",
       "        ></iframe>\n",
       "        "
      ],
      "text/plain": [
       "<IPython.lib.display.IFrame at 0x7fbeeece9670>"
      ]
     },
     "execution_count": 28,
     "metadata": {},
     "output_type": "execute_result"
    }
   ],
   "source": [
    "G = create_a_directed_graph(artist_influence_data)\n",
    "\n",
    "# Create a Pyvis network\n",
    "net = Network(notebook=True, directed=True)  # Ensure directed=True\n",
    "\n",
    "# Convert the NetworkX graph to Pyvis\n",
    "net.from_nx(G)\n",
    "\n",
    "# Optionally apply layout for better visualization\n",
    "net.force_atlas_2based()\n",
    "\n",
    "# Show the interactive graph\n",
    "net.show(\"directed_graph.html\")"
   ]
  },
  {
   "cell_type": "code",
   "execution_count": null,
   "id": "4055e3d2",
   "metadata": {},
   "outputs": [],
   "source": []
  },
  {
   "cell_type": "code",
   "execution_count": null,
   "id": "825cf7ec",
   "metadata": {},
   "outputs": [],
   "source": []
  },
  {
   "cell_type": "code",
   "execution_count": 29,
   "id": "d92e8e6a",
   "metadata": {},
   "outputs": [],
   "source": [
    "def clean_response(response):\n",
    "    cleaned_response = [re.sub(r'[^A-Za-z\\s]', '', word).strip().lower() for word in response.split(\",\")]\n",
    "    return cleaned_response\n",
    "\n",
    "def get_influencers_and_influencees(artist_name):\n",
    "    # influencers_query = f\"Please provide a list of the full names without special characters of five artists and philosophers that influenced {artist_name}, separated by commas, without any numbers, enumerations or additional text. The output format should not be a list, but a string.\"\n",
    "    #influencees_query = f\"Please provide a list of the full names without special characters of five artists and philosophers that were influenced by {artist_name}, separated by commas, without any numbers, enumerations or additional text. The output format should not be a list, but a string.\"\n",
    "    influencers_query = f\"\"\"Provide a string containing the full names (first and last names) of five artists and \n",
    "    philosophers who influenced {artist_name}. \n",
    "    The names should be free of special characters and separated by commas. \n",
    "    Please avoid any lists, numbers, or additional text in the response.\n",
    "    Emphasize that each name must be a complete full name.\n",
    "    Don't add any points at the end of the names. \n",
    "    \"\"\"\n",
    "    influencees_query = f\"\"\"Provide a string containing the full names (first and last names) of five artists and \n",
    "    philosophers who are influenced by {artist_name}. \n",
    "    The names should be free of special characters and separated by commas. \n",
    "    Please avoid any lists, numbers, or additional text in the response.\n",
    "    Emphasize that each name must be a complete full name.\n",
    "    Don't add any points at the end of the names. \n",
    "    \"\"\"   \n",
    "    events_query = f\"\"\"Provide the top three most important historical events (not philosophies) or environmental factors (described in one or two words) that influenced {artist_name}. \n",
    "    Some examples of such events are war, industrial revolution, french revolution ands artistic movement.\n",
    "    Some wrong examples are Rousseau's philosophy and Mozart's music.\n",
    "    People are not events, so don't return them. \n",
    "    Exlude events that are not that significant. \n",
    "    Try to make the examples as condense as possible. \n",
    "    Only return the examples that had a major influence. \n",
    "    Put the events in a list separated by a comma. Avoid numbers, dashes, enumerations and lists. \n",
    "    \"\"\"  \n",
    "\n",
    "    \n",
    "    influencers = clean_response(get_chat_gpt(influencers_query))\n",
    "    influencees = clean_response(get_chat_gpt(influencees_query))\n",
    "    influencing_events = clean_response(get_chat_gpt(events_query))\n",
    "    return influencers, influencees, influencing_events\n",
    "\n",
    "\n"
   ]
  },
  {
   "cell_type": "code",
   "execution_count": null,
   "id": "a0648351",
   "metadata": {},
   "outputs": [],
   "source": [
    "artists_processed = set()\n",
    "artists_to_process = set([\"Sigmund Freud\"])\n",
    "artist_influence_data = {}\n",
    "node_types = dict()\n",
    "\n",
    "\n",
    "for i in range(4):\n",
    "    new_artists = set()\n",
    "    for artist in artists_to_process:\n",
    "        influencers, influencees, influencing_events = get_influencers_and_influencees(artist)\n",
    "        for influencer in influencers:\n",
    "            new_artists.add(influencer) \n",
    "        for influencee in influencees:\n",
    "            new_artists.add(influencee) \n",
    "        for event in influencing_events:\n",
    "            node_types[event] = \"event\"            \n",
    "        artist_influence_data[artist] = {\n",
    "            \"influencers\": influencers,\n",
    "            \"influencees\": influencees, \n",
    "            \"influencing_events\": influencing_events\n",
    "        }\n",
    "    artists_processed.update(artists_to_process)\n",
    "    artists_to_process = new_artists\n",
    "    "
   ]
  },
  {
   "cell_type": "code",
   "execution_count": null,
   "id": "34674b92",
   "metadata": {
    "scrolled": true
   },
   "outputs": [],
   "source": [
    "#artist_influence_data"
   ]
  },
  {
   "cell_type": "code",
   "execution_count": null,
   "id": "7408e3bd",
   "metadata": {},
   "outputs": [],
   "source": [
    "def create_a_directed_graph(artist_influence_data):\n",
    "    # Create a directed graph\n",
    "    G = nx.DiGraph()\n",
    "    # Add nodes and edges based on the influence data\n",
    "    for artist, influences in artist_influence_data.items():\n",
    "        G.add_node(artist)\n",
    "        # Add edges for influencers\n",
    "        for influencer in influences[\"influencers\"]:\n",
    "            if influencer:\n",
    "                G.add_edge(influencer, artist)\n",
    "        # Add edges for influencees\n",
    "        for influencee in influences[\"influencees\"]:\n",
    "            if influencee:\n",
    "                G.add_edge(artist, influencee)\n",
    "        # Add edges for influencing events\n",
    "        for event in influences[\"influencing_events\"]:\n",
    "            if event:\n",
    "                G.add_edge(event, artist)\n",
    "    return G\n",
    "G = create_a_directed_graph(artist_influence_data)\n",
    "\n",
    "# Create a Pyvis network\n",
    "net = Network(notebook=True, directed=True)  # Ensure directed=True\n",
    "\n",
    "\n",
    "# Add nodes with different colors based on their type\n",
    "for node in G.nodes():\n",
    "    node_type = node_types.get(node, 'unknown')  # Default to 'unknown' if type is not provided\n",
    "    if node_type == 'event':\n",
    "        color = 'green'\n",
    "    else:\n",
    "        color = 'blue'  # For unknown types\n",
    "\n",
    "    net.add_node(node, label=node, color=color)\n",
    "    \n",
    "\n",
    "# Add edges to the PyVis network\n",
    "for source, target in G.edges():\n",
    "    net.add_edge(source, target)\n",
    "\n",
    "# Optionally apply layout for better visualization\n",
    "net.force_atlas_2based()\n",
    "\n",
    "# Show the interactive graph\n",
    "net.show(\"directed_graph.html\")"
   ]
  },
  {
   "cell_type": "code",
   "execution_count": null,
   "id": "aa455b78",
   "metadata": {},
   "outputs": [],
   "source": [
    "# green: no people (beethoven)"
   ]
  },
  {
   "cell_type": "code",
   "execution_count": null,
   "id": "0f8e6a46",
   "metadata": {},
   "outputs": [],
   "source": [
    "artist_influence_data[\"socrates\"]"
   ]
  },
  {
   "cell_type": "code",
   "execution_count": null,
   "id": "93fb30f2",
   "metadata": {},
   "outputs": [],
   "source": []
  },
  {
   "cell_type": "code",
   "execution_count": null,
   "id": "a525227e",
   "metadata": {},
   "outputs": [],
   "source": []
  },
  {
   "cell_type": "code",
   "execution_count": null,
   "id": "8ef42e36",
   "metadata": {},
   "outputs": [],
   "source": []
  }
 ],
 "metadata": {
  "kernelspec": {
   "display_name": "Python 3 (ipykernel)",
   "language": "python",
   "name": "python3"
  },
  "language_info": {
   "codemirror_mode": {
    "name": "ipython",
    "version": 3
   },
   "file_extension": ".py",
   "mimetype": "text/x-python",
   "name": "python",
   "nbconvert_exporter": "python",
   "pygments_lexer": "ipython3",
   "version": "3.8.10"
  }
 },
 "nbformat": 4,
 "nbformat_minor": 5
}
